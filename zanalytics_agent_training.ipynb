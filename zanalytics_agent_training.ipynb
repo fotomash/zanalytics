{
 "cells": [
  {
   "cell_type": "markdown",
   "metadata": {},
   "source": [
    "# 🧠 ZANALYTICS 5.2 AGENT TRAINING NOTEBOOK\n",
    "This notebook is for training, testing, and interacting with agent modules in the ZANALYTICS system.\n",
    "\n",
    "It includes:\n",
    "- Microstructure trigger testing (Bożenka)\n",
    "- HTF phase alignment (Rysiek)\n",
    "- Macro bias checks (MacroAgent)\n",
    "- Risk scoring (Zdzisiek)\n",
    "- Journal entry logging and export\n",
    "\n",
    "Make sure to run this in the root of the unpacked ZANALYTICS workspace."
   ]
  },
  {
   "cell_type": "code",
   "execution_count": null,
   "metadata": {},
   "outputs": [],
   "source": [
    "# 🔁 Load agent stack\n",
    "from agent_initializer import initialize_agents\n",
    "from advanced_smc_orchestrator import load_strategy_profile\n",
    "from pandas import Timestamp\n",
    "import pandas as pd\n",
    "import json\n",
    "\n",
    "# 🔧 Load mock config or real strategy variant\n",
    "variant = 'Inv'\n",
    "config = load_strategy_profile(variant)\n",
    "config['symbol'] = 'XAUUSD'\n",
    "\n",
    "# 🧠 Initialize all AI agents\n",
    "agents = initialize_agents(config)\n",
    "\n",
    "# [Lusia] Semantic DSS interpretation\n",
    "semantic = agents['semantic_dss'].analyze()\n",
    "print(\"[Lusia] \" + semantic['combined_interpretation'])"
   ]
  },
  {
   "cell_type": "code",
   "execution_count": null,
   "metadata": {},
   "outputs": [],
   "source": [
    "# ✅ Evaluate all agents\n",
    "micro = agents['micro_strategist'].evaluate_microstructure_phase_trigger()\n",
    "macro = agents['macro_analyzer'].evaluate_macro_bias()\n",
    "risk  = agents['risk_manager'].evaluate_risk_profile()\n",
    "htf   = agents['htf_phase_analyst'].evaluate_wyckoff_phase_context()\n",
    "journal = agents['trade_journalist'].log_decision(micro, macro, risk)\n",
    "\n",
    "print(journal['summary'])"
   ]
  }
 ],
 "metadata": {
  "kernelspec": {
   "display_name": "Python 3",
   "language": "python",
   "name": "python3"
  },
  "language_info": {
   "name": "python",
   "version": "3.8"
  }
 },
 "nbformat": 4,
 "nbformat_minor": 4
}
